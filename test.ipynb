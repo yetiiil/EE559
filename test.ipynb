{
 "cells": [
  {
   "cell_type": "code",
   "execution_count": 1,
   "id": "de659a80",
   "metadata": {},
   "outputs": [],
   "source": [
    "import torch\n",
    "from torch import optim\n",
    "from torch import Tensor\n",
    "from torch import nn\n",
    "\n",
    "from torch.nn import functional as F\n",
    "import torchvision.transforms as T \n",
    "import matplotlib.pyplot as plt\n",
    "from PIL import Image\n",
    "\n",
    "transform = T.ToPILImage()"
   ]
  },
  {
   "cell_type": "code",
   "execution_count": 2,
   "id": "401226bf",
   "metadata": {},
   "outputs": [],
   "source": [
    "DATA_PATH = './'"
   ]
  },
  {
   "cell_type": "code",
   "execution_count": 3,
   "id": "95a2bf24",
   "metadata": {},
   "outputs": [
    {
     "name": "stdout",
     "output_type": "stream",
     "text": [
      "torch.Size([50000, 3, 32, 32])\n",
      "torch.Size([50000, 3, 32, 32])\n",
      "torch.Size([1000, 3, 32, 32])\n",
      "torch.Size([1000, 3, 32, 32])\n"
     ]
    }
   ],
   "source": [
    "path_train = DATA_PATH + 'train_data.pkl'\n",
    "path_val = DATA_PATH + 'val_data.pkl'\n",
    "\n",
    "# 2 tensors of size 50000 x 3 x H x W\n",
    "noisy_imgs_1, noisy_imgs_2 = torch.load(path_train)\n",
    "#noisy_imgs_1_poisson = noisy_imgs_1 + torch.poisson(torch.rand(noisy_imgs_1.size()) * 5) \n",
    "#noisy_imgs_2_poisson = noisy_imgs_2 + torch.poisson(torch.rand(noisy_imgs_2.size()) * 5) \n",
    "#noisy_imgs_1_bernoulli = noisy_imgs_1 + torch.bernoulli(torch.empty(noisy_imgs_1.size()).uniform_(0, 1))*5\n",
    "#noisy_imgs_2_bernoulli = noisy_imgs_2 + torch.bernoulli(torch.empty(noisy_imgs_2.size()).uniform_(0, 1))*5\n",
    "\n",
    "noisy_imgs_1 , noisy_imgs_2 = noisy_imgs_1, noisy_imgs_2\n",
    "#noisy_imgs_1_poisson , noisy_imgs_2_poisson = noisy_imgs_1_poisson.float()/255, noisy_imgs_2_poisson.float()/255\n",
    "#noisy_imgs_1_bernoulli , noisy_imgs_2_bernoulli = noisy_imgs_1_bernoulli.float()/255, noisy_imgs_2_bernoulli.float()/255\n",
    "\n",
    "noisy_imgs, clean_imgs = torch.load(path_val)\n",
    "noisy_imgs , clean_imgs = noisy_imgs, clean_imgs\n",
    "\n",
    "print(noisy_imgs_1.size())\n",
    "print(noisy_imgs_2.size())\n",
    "#print(noisy_imgs_1_poisson.size())\n",
    "#print(noisy_imgs_2_poisson.size())\n",
    "#print(noisy_imgs_1_bernoulli.size())\n",
    "#print(noisy_imgs_2_bernoulli.size())\n",
    "print(noisy_imgs.size())\n",
    "print(clean_imgs.size())"
   ]
  },
  {
   "cell_type": "code",
   "execution_count": 4,
   "id": "4bc33ab5",
   "metadata": {},
   "outputs": [],
   "source": [
    "#blurrer_1 = T.GaussianBlur(kernel_size=(5, 5), sigma=(0.5, 0.5))\n",
    "#blurred_1_noisy_imgs_1 = blurrer_1(noisy_imgs_1)\n",
    "#blurred_1_noisy_imgs_2 = blurrer_1(noisy_imgs_2)"
   ]
  },
  {
   "cell_type": "code",
   "execution_count": 5,
   "id": "ccb7458c",
   "metadata": {},
   "outputs": [],
   "source": [
    "#train_input = torch.cat((noisy_imgs_1,noisy_imgs_1_poisson,noisy_imgs_1_bernoulli),dim =0)\n",
    "#train_target = torch.cat((noisy_imgs_2,noisy_imgs_2_poisson,noisy_imgs_2_bernoulli),dim =0)"
   ]
  },
  {
   "cell_type": "code",
   "execution_count": 4,
   "id": "2c86c3a3",
   "metadata": {},
   "outputs": [],
   "source": [
    "train_input = noisy_imgs_1\n",
    "train_target = noisy_imgs_2"
   ]
  },
  {
   "cell_type": "code",
   "execution_count": 13,
   "id": "004c2a99",
   "metadata": {},
   "outputs": [],
   "source": [
    "from Miniproject_2.model import Model\n",
    "\n",
    "net = Model()"
   ]
  },
  {
   "cell_type": "code",
   "execution_count": 16,
   "id": "a5012ea1",
   "metadata": {},
   "outputs": [],
   "source": [
    "def psnr(x ,y, max_range=1.0):\n",
    "  # Peak Signal to Noise Ratio : denoised and ground_truth have range [0 , 1]\n",
    "  assert x.shape == y.shape and x.ndim == 4\n",
    "  return 20 * torch.log10(torch.tensor(max_range)) - 10 * torch.log10(((x-y) ** 2).mean((1,2,3))).mean()"
   ]
  },
  {
   "cell_type": "code",
   "execution_count": 17,
   "id": "a848530e",
   "metadata": {},
   "outputs": [
    {
     "name": "stdout",
     "output_type": "stream",
     "text": [
      "Current Epoch0 Loss: 0.65698150\n",
      "tensor(22.9081)\n",
      "Current Epoch1 Loss: 0.51446786\n",
      "tensor(23.2366)\n",
      "Current Epoch2 Loss: 0.50652762\n",
      "tensor(23.3791)\n",
      "Current Epoch3 Loss: 0.50290987\n",
      "tensor(23.4558)\n",
      "Current Epoch4 Loss: 0.50079062\n",
      "tensor(23.5247)\n",
      "Current Epoch5 Loss: 0.49653538\n",
      "tensor(23.6462)\n",
      "Current Epoch6 Loss: 0.49501817\n",
      "tensor(23.6712)\n",
      "Current Epoch7 Loss: 0.49439673\n",
      "tensor(23.6870)\n",
      "Current Epoch8 Loss: 0.49391302\n",
      "tensor(23.7005)\n",
      "Current Epoch9 Loss: 0.49351291\n",
      "tensor(23.7117)\n",
      "Current Epoch10 Loss: 0.49320695\n",
      "tensor(23.7192)\n",
      "Current Epoch11 Loss: 0.49298283\n",
      "tensor(23.7248)\n",
      "Current Epoch12 Loss: 0.49280684\n",
      "tensor(23.7289)\n",
      "Current Epoch13 Loss: 0.49242140\n",
      "tensor(23.7640)\n",
      "Current Epoch14 Loss: 0.49151395\n",
      "tensor(23.7709)\n",
      "Current Epoch15 Loss: 0.49130819\n",
      "tensor(23.7748)\n",
      "Current Epoch16 Loss: 0.49117210\n",
      "tensor(23.7792)\n",
      "Current Epoch17 Loss: 0.49105726\n",
      "tensor(23.7832)\n",
      "Current Epoch18 Loss: 0.49095738\n",
      "tensor(23.7869)\n",
      "Current Epoch19 Loss: 0.49086923\n",
      "tensor(23.7899)\n",
      "Current Epoch20 Loss: 0.49078631\n",
      "tensor(23.7930)\n",
      "Current Epoch21 Loss: 0.49070802\n",
      "tensor(23.7954)\n",
      "Current Epoch22 Loss: 0.49063500\n",
      "tensor(23.7976)\n",
      "Current Epoch23 Loss: 0.49056771\n",
      "tensor(23.8000)\n",
      "Current Epoch24 Loss: 0.49050265\n",
      "tensor(23.8018)\n",
      "Current Epoch25 Loss: 0.49045172\n",
      "tensor(23.8027)\n",
      "Current Epoch26 Loss: 0.49040689\n",
      "tensor(23.8039)\n",
      "Current Epoch27 Loss: 0.49036680\n",
      "tensor(23.8051)\n",
      "Current Epoch28 Loss: 0.49032851\n",
      "tensor(23.8065)\n",
      "Current Epoch29 Loss: 0.49029086\n",
      "tensor(23.8076)\n",
      "Current Epoch30 Loss: 0.49024188\n",
      "tensor(23.8098)\n",
      "Current Epoch31 Loss: 0.48980365\n",
      "tensor(23.8294)\n",
      "Current Epoch32 Loss: 0.48949164\n",
      "tensor(23.8323)\n",
      "Current Epoch33 Loss: 0.48942520\n",
      "tensor(23.8337)\n",
      "Current Epoch34 Loss: 0.48936501\n",
      "tensor(23.8352)\n",
      "Current Epoch35 Loss: 0.48932186\n",
      "tensor(23.8361)\n",
      "Current Epoch36 Loss: 0.48929216\n",
      "tensor(23.8363)\n",
      "Current Epoch37 Loss: 0.48926733\n",
      "tensor(23.8368)\n",
      "Current Epoch38 Loss: 0.48924298\n",
      "tensor(23.8373)\n",
      "Current Epoch39 Loss: 0.48922324\n",
      "tensor(23.8378)\n",
      "Current Epoch40 Loss: 0.48920270\n",
      "tensor(23.8381)\n",
      "Current Epoch41 Loss: 0.48918317\n",
      "tensor(23.8385)\n",
      "Current Epoch42 Loss: 0.48916561\n",
      "tensor(23.8390)\n"
     ]
    },
    {
     "ename": "KeyboardInterrupt",
     "evalue": "",
     "output_type": "error",
     "traceback": [
      "\u001b[0;31m---------------------------------------------------------------------------\u001b[0m",
      "\u001b[0;31mKeyboardInterrupt\u001b[0m                         Traceback (most recent call last)",
      "\u001b[1;32m/Users/liyuxiao/Downloads/CS2022/DeepLearning/EE559/test.ipynb Cell 9'\u001b[0m in \u001b[0;36m<cell line: 1>\u001b[0;34m()\u001b[0m\n\u001b[0;32m----> <a href='vscode-notebook-cell:/Users/liyuxiao/Downloads/CS2022/DeepLearning/EE559/test.ipynb#ch0000008?line=0'>1</a>\u001b[0m net\u001b[39m.\u001b[39;49mtrain(train_input, train_target, \u001b[39m100\u001b[39;49m)\n",
      "File \u001b[0;32m~/Downloads/CS2022/DeepLearning/EE559/Miniproject_2/model.py:63\u001b[0m, in \u001b[0;36mModel.train\u001b[0;34m(self, train_input, train_target, num_epochs)\u001b[0m\n\u001b[1;32m     <a href='file:///Users/liyuxiao/Downloads/CS2022/DeepLearning/EE559/Miniproject_2/model.py?line=59'>60</a>\u001b[0m \u001b[39mfor\u001b[39;00m b \u001b[39min\u001b[39;00m \u001b[39mrange\u001b[39m(\u001b[39m0\u001b[39m, train_input\u001b[39m.\u001b[39msize(\u001b[39m0\u001b[39m), mini_batch_size):\n\u001b[1;32m     <a href='file:///Users/liyuxiao/Downloads/CS2022/DeepLearning/EE559/Miniproject_2/model.py?line=60'>61</a>\u001b[0m     optimizer\u001b[39m.\u001b[39mzero_grad()\n\u001b[0;32m---> <a href='file:///Users/liyuxiao/Downloads/CS2022/DeepLearning/EE559/Miniproject_2/model.py?line=62'>63</a>\u001b[0m     output \u001b[39m=\u001b[39m model\u001b[39m.\u001b[39;49mforward(train_input\u001b[39m.\u001b[39;49mnarrow(\u001b[39m0\u001b[39;49m, b, mini_batch_size))\n\u001b[1;32m     <a href='file:///Users/liyuxiao/Downloads/CS2022/DeepLearning/EE559/Miniproject_2/model.py?line=63'>64</a>\u001b[0m     loss \u001b[39m=\u001b[39m criterion\u001b[39m.\u001b[39mforward(output, train_target\u001b[39m.\u001b[39mnarrow(\u001b[39m0\u001b[39m, b, mini_batch_size))\n\u001b[1;32m     <a href='file:///Users/liyuxiao/Downloads/CS2022/DeepLearning/EE559/Miniproject_2/model.py?line=64'>65</a>\u001b[0m     acc_loss \u001b[39m=\u001b[39m acc_loss \u001b[39m+\u001b[39m loss\u001b[39m.\u001b[39mitem()\n",
      "File \u001b[0;32m~/Downloads/CS2022/DeepLearning/EE559/Miniproject_2/others/module.py:275\u001b[0m, in \u001b[0;36mSequential.forward\u001b[0;34m(self, input)\u001b[0m\n\u001b[1;32m    <a href='file:///Users/liyuxiao/Downloads/CS2022/DeepLearning/EE559/Miniproject_2/others/module.py?line=272'>273</a>\u001b[0m y \u001b[39m=\u001b[39m \u001b[39minput\u001b[39m\n\u001b[1;32m    <a href='file:///Users/liyuxiao/Downloads/CS2022/DeepLearning/EE559/Miniproject_2/others/module.py?line=273'>274</a>\u001b[0m \u001b[39mfor\u001b[39;00m name \u001b[39min\u001b[39;00m \u001b[39mself\u001b[39m\u001b[39m.\u001b[39mnames:\n\u001b[0;32m--> <a href='file:///Users/liyuxiao/Downloads/CS2022/DeepLearning/EE559/Miniproject_2/others/module.py?line=274'>275</a>\u001b[0m     y \u001b[39m=\u001b[39m \u001b[39mself\u001b[39;49m\u001b[39m.\u001b[39;49mmodules[name]\u001b[39m.\u001b[39;49mforward(y)\n\u001b[1;32m    <a href='file:///Users/liyuxiao/Downloads/CS2022/DeepLearning/EE559/Miniproject_2/others/module.py?line=275'>276</a>\u001b[0m \u001b[39mreturn\u001b[39;00m y\n",
      "File \u001b[0;32m~/Downloads/CS2022/DeepLearning/EE559/Miniproject_2/others/module.py:60\u001b[0m, in \u001b[0;36mReLU.forward\u001b[0;34m(self, input)\u001b[0m\n\u001b[1;32m     <a href='file:///Users/liyuxiao/Downloads/CS2022/DeepLearning/EE559/Miniproject_2/others/module.py?line=57'>58</a>\u001b[0m \u001b[39mdef\u001b[39;00m \u001b[39mforward\u001b[39m(\u001b[39mself\u001b[39m, \u001b[39minput\u001b[39m : Tensor):\n\u001b[1;32m     <a href='file:///Users/liyuxiao/Downloads/CS2022/DeepLearning/EE559/Miniproject_2/others/module.py?line=58'>59</a>\u001b[0m     \u001b[39mself\u001b[39m\u001b[39m.\u001b[39mcache[\u001b[39m\"\u001b[39m\u001b[39mvalue\u001b[39m\u001b[39m\"\u001b[39m] \u001b[39m=\u001b[39m \u001b[39minput\u001b[39m \u001b[39m>\u001b[39m \u001b[39m0\u001b[39m\n\u001b[0;32m---> <a href='file:///Users/liyuxiao/Downloads/CS2022/DeepLearning/EE559/Miniproject_2/others/module.py?line=59'>60</a>\u001b[0m     \u001b[39mreturn\u001b[39;00m \u001b[39minput\u001b[39;49m \u001b[39m*\u001b[39;49m \u001b[39mself\u001b[39;49m\u001b[39m.\u001b[39;49mcache[\u001b[39m\"\u001b[39;49m\u001b[39mvalue\u001b[39;49m\u001b[39m\"\u001b[39;49m]\n",
      "\u001b[0;31mKeyboardInterrupt\u001b[0m: "
     ]
    }
   ],
   "source": [
    "net.train(train_input, train_target, 100)"
   ]
  },
  {
   "cell_type": "code",
   "execution_count": 7,
   "id": "09d77fcb",
   "metadata": {},
   "outputs": [],
   "source": [
    "net.load_pretrained_model()"
   ]
  },
  {
   "cell_type": "code",
   "execution_count": 18,
   "id": "4cd785b2",
   "metadata": {},
   "outputs": [
    {
     "data": {
      "text/plain": [
       "tensor(23.8165)"
      ]
     },
     "execution_count": 18,
     "metadata": {},
     "output_type": "execute_result"
    }
   ],
   "source": [
    "psnr(net.predict(noisy_imgs)/255.0,clean_imgs/255.0)"
   ]
  },
  {
   "cell_type": "code",
   "execution_count": 19,
   "id": "3383ee0a",
   "metadata": {},
   "outputs": [
    {
     "data": {
      "image/png": "[encoded data removed]",
      "image/svg+xml": "<?xml version=\"1.0\" encoding=\"utf-8\" standalone=\"no\"?>\n<!DOCTYPE svg PUBLIC \"-//W3C//DTD SVG 1.1//EN\"\n  \"http://www.w3.org/Graphics/SVG/1.1/DTD/svg11.dtd\">\n<svg xmlns:xlink=\"http://www.w3.org/1999/xlink\" width=\"251.565pt\" height=\"248.919844pt\" viewBox=\"0 0 251.565 248.919844\" xmlns=\"http://www.w3.org/2000/svg\" version=\"1.1\">\n <metadata>\n  <rdf:RDF xmlns:dc=\"http://purl.org/dc/elements/1.1/\" xmlns:cc=\"http://creativecommons.org/ns#\" xmlns:rdf=\"http://www.w3.org/1999/02/22-rdf-syntax-ns#\">\n   <cc:Work>\n    <dc:type rdf:resource=\"http://purl.org/dc/dcmitype/StillImage\"/>\n    <dc:date>2022-05-27T16:45:06.589519</dc:date>\n    <dc:format>image/svg+xml</dc:format>\n    <dc:creator>\n     <cc:Agent>\n      <dc:title>Matplotlib v3.5.1, https://matplotlib.org/</dc:title>\n     </cc:Agent>\n    </dc:creator>\n   </cc:Work>\n  </rdf:RDF>\n </metadata>\n <defs>\n  <style type=\"text/css\">*{stroke-linejoin: round; stroke-linecap: butt}</style>\n </defs>\n <g id=\"figure_1\">\n  <g id=\"patch_1\">\n   <path d=\"M 0 248.919844 \nL 251.565 248.919844 \nL 251.565 0 \nL 0 0 \nL 0 248.919844 \nz\n\" style=\"fill: none\"/>\n  </g>\n  <g id=\"axes_1\">\n   <g id=\"patch_2\">\n    <path d=\"M 26.925 225.041719 \nL 244.365 225.041719 \nL 244.365 7.601719 \nL 26.925 7.601719 \nz\n\" style=\"fill: #ffffff\"/>\n   </g>\n   <g clip-path=\"url(#p40f8d79581)\">\n    <image xlink:href=\"data:image/png;base64,\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\" id=\"imagee7709cbbb1\" transform=\"scale(1 -1)translate(0 -218)\" x=\"26.925\" y=\"-7.041719\" width=\"218\" height=\"218\"/>\n   </g>\n   <g id=\"matplotlib.axis_1\">\n    <g id=\"xtick_1\">\n     <g id=\"line2d_1\">\n      <defs>\n       <path id=\"m46e166be06\" d=\"M 0 0 \nL 0 3.5 \n\" style=\"stroke: #000000; stroke-width: 0.8\"/>\n      </defs>\n      <g>\n       <use xlink:href=\"#m46e166be06\" x=\"30.3225\" y=\"225.041719\" style=\"stroke: #000000; stroke-width: 0.8\"/>\n      </g>\n     </g>\n     <g id=\"text_1\">\n      <!-- 0 -->\n      <g transform=\"translate(27.14125 239.640156)scale(0.1 -0.1)\">\n       <defs>\n        <path id=\"DejaVuSans-30\" d=\"M 2034 4250 \nQ 1547 4250 1301 3770 \nQ 1056 3291 1056 2328 \nQ 1056 1369 1301 889 \nQ 1547 409 2034 409 \nQ 2525 409 2770 889 \nQ 3016 1369 3016 2328 \nQ 3016 3291 2770 3770 \nQ 2525 4250 2034 4250 \nz\nM 2034 4750 \nQ 2819 4750 3233 4129 \nQ 3647 3509 3647 2328 \nQ 3647 1150 3233 529 \nQ 2819 -91 2034 -91 \nQ 1250 -91 836 529 \nQ 422 1150 422 2328 \nQ 422 3509 836 4129 \nQ 1250 4750 2034 4750 \nz\n\" transform=\"scale(0.015625)\"/>\n       </defs>\n       <use xlink:href=\"#DejaVuSans-30\"/>\n      </g>\n     </g>\n    </g>\n    <g id=\"xtick_2\">\n     <g id=\"line2d_2\">\n      <g>\n       <use xlink:href=\"#m46e166be06\" x=\"64.2975\" y=\"225.041719\" style=\"stroke: #000000; stroke-width: 0.8\"/>\n      </g>\n     </g>\n     <g id=\"text_2\">\n      <!-- 5 -->\n      <g transform=\"translate(61.11625 239.640156)scale(0.1 -0.1)\">\n       <defs>\n        <path id=\"DejaVuSans-35\" d=\"M 691 4666 \nL 3169 4666 \nL 3169 4134 \nL 1269 4134 \nL 1269 2991 \nQ 1406 3038 1543 3061 \nQ 1681 3084 1819 3084 \nQ 2600 3084 3056 2656 \nQ 3513 2228 3513 1497 \nQ 3513 744 3044 326 \nQ 2575 -91 1722 -91 \nQ 1428 -91 1123 -41 \nQ 819 9 494 109 \nL 494 744 \nQ 775 591 1075 516 \nQ 1375 441 1709 441 \nQ 2250 441 2565 725 \nQ 2881 1009 2881 1497 \nQ 2881 1984 2565 2268 \nQ 2250 2553 1709 2553 \nQ 1456 2553 1204 2497 \nQ 953 2441 691 2322 \nL 691 4666 \nz\n\" transform=\"scale(0.015625)\"/>\n       </defs>\n       <use xlink:href=\"#DejaVuSans-35\"/>\n      </g>\n     </g>\n    </g>\n    <g id=\"xtick_3\">\n     <g id=\"line2d_3\">\n      <g>\n       <use xlink:href=\"#m46e166be06\" x=\"98.2725\" y=\"225.041719\" style=\"stroke: #000000; stroke-width: 0.8\"/>\n      </g>\n     </g>\n     <g id=\"text_3\">\n      <!-- 10 -->\n      <g transform=\"translate(91.91 239.640156)scale(0.1 -0.1)\">\n       <defs>\n        <path id=\"DejaVuSans-31\" d=\"M 794 531 \nL 1825 531 \nL 1825 4091 \nL 703 3866 \nL 703 4441 \nL 1819 4666 \nL 2450 4666 \nL 2450 531 \nL 3481 531 \nL 3481 0 \nL 794 0 \nL 794 531 \nz\n\" transform=\"scale(0.015625)\"/>\n       </defs>\n       <use xlink:href=\"#DejaVuSans-31\"/>\n       <use xlink:href=\"#DejaVuSans-30\" x=\"63.623047\"/>\n      </g>\n     </g>\n    </g>\n    <g id=\"xtick_4\">\n     <g id=\"line2d_4\">\n      <g>\n       <use xlink:href=\"#m46e166be06\" x=\"132.2475\" y=\"225.041719\" style=\"stroke: #000000; stroke-width: 0.8\"/>\n      </g>\n     </g>\n     <g id=\"text_4\">\n      <!-- 15 -->\n      <g transform=\"translate(125.885 239.640156)scale(0.1 -0.1)\">\n       <use xlink:href=\"#DejaVuSans-31\"/>\n       <use xlink:href=\"#DejaVuSans-35\" x=\"63.623047\"/>\n      </g>\n     </g>\n    </g>\n    <g id=\"xtick_5\">\n     <g id=\"line2d_5\">\n      <g>\n       <use xlink:href=\"#m46e166be06\" x=\"166.2225\" y=\"225.041719\" style=\"stroke: #000000; stroke-width: 0.8\"/>\n      </g>\n     </g>\n     <g id=\"text_5\">\n      <!-- 20 -->\n      <g transform=\"translate(159.86 239.640156)scale(0.1 -0.1)\">\n       <defs>\n        <path id=\"DejaVuSans-32\" d=\"M 1228 531 \nL 3431 531 \nL 3431 0 \nL 469 0 \nL 469 531 \nQ 828 903 1448 1529 \nQ 2069 2156 2228 2338 \nQ 2531 2678 2651 2914 \nQ 2772 3150 2772 3378 \nQ 2772 3750 2511 3984 \nQ 2250 4219 1831 4219 \nQ 1534 4219 1204 4116 \nQ 875 4013 500 3803 \nL 500 4441 \nQ 881 4594 1212 4672 \nQ 1544 4750 1819 4750 \nQ 2544 4750 2975 4387 \nQ 3406 4025 3406 3419 \nQ 3406 3131 3298 2873 \nQ 3191 2616 2906 2266 \nQ 2828 2175 2409 1742 \nQ 1991 1309 1228 531 \nz\n\" transform=\"scale(0.015625)\"/>\n       </defs>\n       <use xlink:href=\"#DejaVuSans-32\"/>\n       <use xlink:href=\"#DejaVuSans-30\" x=\"63.623047\"/>\n      </g>\n     </g>\n    </g>\n    <g id=\"xtick_6\">\n     <g id=\"line2d_6\">\n      <g>\n       <use xlink:href=\"#m46e166be06\" x=\"200.1975\" y=\"225.041719\" style=\"stroke: #000000; stroke-width: 0.8\"/>\n      </g>\n     </g>\n     <g id=\"text_6\">\n      <!-- 25 -->\n      <g transform=\"translate(193.835 239.640156)scale(0.1 -0.1)\">\n       <use xlink:href=\"#DejaVuSans-32\"/>\n       <use xlink:href=\"#DejaVuSans-35\" x=\"63.623047\"/>\n      </g>\n     </g>\n    </g>\n    <g id=\"xtick_7\">\n     <g id=\"line2d_7\">\n      <g>\n       <use xlink:href=\"#m46e166be06\" x=\"234.1725\" y=\"225.041719\" style=\"stroke: #000000; stroke-width: 0.8\"/>\n      </g>\n     </g>\n     <g id=\"text_7\">\n      <!-- 30 -->\n      <g transform=\"translate(227.81 239.640156)scale(0.1 -0.1)\">\n       <defs>\n        <path id=\"DejaVuSans-33\" d=\"M 2597 2516 \nQ 3050 2419 3304 2112 \nQ 3559 1806 3559 1356 \nQ 3559 666 3084 287 \nQ 2609 -91 1734 -91 \nQ 1441 -91 1130 -33 \nQ 819 25 488 141 \nL 488 750 \nQ 750 597 1062 519 \nQ 1375 441 1716 441 \nQ 2309 441 2620 675 \nQ 2931 909 2931 1356 \nQ 2931 1769 2642 2001 \nQ 2353 2234 1838 2234 \nL 1294 2234 \nL 1294 2753 \nL 1863 2753 \nQ 2328 2753 2575 2939 \nQ 2822 3125 2822 3475 \nQ 2822 3834 2567 4026 \nQ 2313 4219 1838 4219 \nQ 1578 4219 1281 4162 \nQ 984 4106 628 3988 \nL 628 4550 \nQ 988 4650 1302 4700 \nQ 1616 4750 1894 4750 \nQ 2613 4750 3031 4423 \nQ 3450 4097 3450 3541 \nQ 3450 3153 3228 2886 \nQ 3006 2619 2597 2516 \nz\n\" transform=\"scale(0.015625)\"/>\n       </defs>\n       <use xlink:href=\"#DejaVuSans-33\"/>\n       <use xlink:href=\"#DejaVuSans-30\" x=\"63.623047\"/>\n      </g>\n     </g>\n    </g>\n   </g>\n   <g id=\"matplotlib.axis_2\">\n    <g id=\"ytick_1\">\n     <g id=\"line2d_8\">\n      <defs>\n       <path id=\"mb84bd64118\" d=\"M 0 0 \nL -3.5 0 \n\" style=\"stroke: #000000; stroke-width: 0.8\"/>\n      </defs>\n      <g>\n       <use xlink:href=\"#mb84bd64118\" x=\"26.925\" y=\"10.999219\" style=\"stroke: #000000; stroke-width: 0.8\"/>\n      </g>\n     </g>\n     <g id=\"text_8\">\n      <!-- 0 -->\n      <g transform=\"translate(13.5625 14.798437)scale(0.1 -0.1)\">\n       <use xlink:href=\"#DejaVuSans-30\"/>\n      </g>\n     </g>\n    </g>\n    <g id=\"ytick_2\">\n     <g id=\"line2d_9\">\n      <g>\n       <use xlink:href=\"#mb84bd64118\" x=\"26.925\" y=\"44.974219\" style=\"stroke: #000000; stroke-width: 0.8\"/>\n      </g>\n     </g>\n     <g id=\"text_9\">\n      <!-- 5 -->\n      <g transform=\"translate(13.5625 48.773437)scale(0.1 -0.1)\">\n       <use xlink:href=\"#DejaVuSans-35\"/>\n      </g>\n     </g>\n    </g>\n    <g id=\"ytick_3\">\n     <g id=\"line2d_10\">\n      <g>\n       <use xlink:href=\"#mb84bd64118\" x=\"26.925\" y=\"78.949219\" style=\"stroke: #000000; stroke-width: 0.8\"/>\n      </g>\n     </g>\n     <g id=\"text_10\">\n      <!-- 10 -->\n      <g transform=\"translate(7.2 82.748437)scale(0.1 -0.1)\">\n       <use xlink:href=\"#DejaVuSans-31\"/>\n       <use xlink:href=\"#DejaVuSans-30\" x=\"63.623047\"/>\n      </g>\n     </g>\n    </g>\n    <g id=\"ytick_4\">\n     <g id=\"line2d_11\">\n      <g>\n       <use xlink:href=\"#mb84bd64118\" x=\"26.925\" y=\"112.924219\" style=\"stroke: #000000; stroke-width: 0.8\"/>\n      </g>\n     </g>\n     <g id=\"text_11\">\n      <!-- 15 -->\n      <g transform=\"translate(7.2 116.723437)scale(0.1 -0.1)\">\n       <use xlink:href=\"#DejaVuSans-31\"/>\n       <use xlink:href=\"#DejaVuSans-35\" x=\"63.623047\"/>\n      </g>\n     </g>\n    </g>\n    <g id=\"ytick_5\">\n     <g id=\"line2d_12\">\n      <g>\n       <use xlink:href=\"#mb84bd64118\" x=\"26.925\" y=\"146.899219\" style=\"stroke: #000000; stroke-width: 0.8\"/>\n      </g>\n     </g>\n     <g id=\"text_12\">\n      <!-- 20 -->\n      <g transform=\"translate(7.2 150.698437)scale(0.1 -0.1)\">\n       <use xlink:href=\"#DejaVuSans-32\"/>\n       <use xlink:href=\"#DejaVuSans-30\" x=\"63.623047\"/>\n      </g>\n     </g>\n    </g>\n    <g id=\"ytick_6\">\n     <g id=\"line2d_13\">\n      <g>\n       <use xlink:href=\"#mb84bd64118\" x=\"26.925\" y=\"180.874219\" style=\"stroke: #000000; stroke-width: 0.8\"/>\n      </g>\n     </g>\n     <g id=\"text_13\">\n      <!-- 25 -->\n      <g transform=\"translate(7.2 184.673437)scale(0.1 -0.1)\">\n       <use xlink:href=\"#DejaVuSans-32\"/>\n       <use xlink:href=\"#DejaVuSans-35\" x=\"63.623047\"/>\n      </g>\n     </g>\n    </g>\n    <g id=\"ytick_7\">\n     <g id=\"line2d_14\">\n      <g>\n       <use xlink:href=\"#mb84bd64118\" x=\"26.925\" y=\"214.849219\" style=\"stroke: #000000; stroke-width: 0.8\"/>\n      </g>\n     </g>\n     <g id=\"text_14\">\n      <!-- 30 -->\n      <g transform=\"translate(7.2 218.648437)scale(0.1 -0.1)\">\n       <use xlink:href=\"#DejaVuSans-33\"/>\n       <use xlink:href=\"#DejaVuSans-30\" x=\"63.623047\"/>\n      </g>\n     </g>\n    </g>\n   </g>\n   <g id=\"patch_3\">\n    <path d=\"M 26.925 225.041719 \nL 26.925 7.601719 \n\" style=\"fill: none; stroke: #000000; stroke-width: 0.8; stroke-linejoin: miter; stroke-linecap: square\"/>\n   </g>\n   <g id=\"patch_4\">\n    <path d=\"M 244.365 225.041719 \nL 244.365 7.601719 \n\" style=\"fill: none; stroke: #000000; stroke-width: 0.8; stroke-linejoin: miter; stroke-linecap: square\"/>\n   </g>\n   <g id=\"patch_5\">\n    <path d=\"M 26.925 225.041719 \nL 244.365 225.041719 \n\" style=\"fill: none; stroke: #000000; stroke-width: 0.8; stroke-linejoin: miter; stroke-linecap: square\"/>\n   </g>\n   <g id=\"patch_6\">\n    <path d=\"M 26.925 7.601719 \nL 244.365 7.601719 \n\" style=\"fill: none; stroke: #000000; stroke-width: 0.8; stroke-linejoin: miter; stroke-linecap: square\"/>\n   </g>\n  </g>\n </g>\n <defs>\n  <clipPath id=\"p40f8d79581\">\n   <rect x=\"26.925\" y=\"7.601719\" width=\"217.44\" height=\"217.44\"/>\n  </clipPath>\n </defs>\n</svg>\n",
      "text/plain": [
       "<Figure size 432x288 with 1 Axes>"
      ]
     },
     "metadata": {
      "needs_background": "light"
     },
     "output_type": "display_data"
    }
   ],
   "source": [
    "plt.imshow(net.predict(noisy_imgs[0:2])[1].int().numpy().transpose(1,2,0));"
   ]
  },
  {
   "cell_type": "code",
   "execution_count": 15,
   "id": "dfa72a68",
   "metadata": {},
   "outputs": [
    {
     "data": {
      "image/png": "[encoded data removed]",
      "image/svg+xml": "<?xml version=\"1.0\" encoding=\"utf-8\" standalone=\"no\"?>\n<!DOCTYPE svg PUBLIC \"-//W3C//DTD SVG 1.1//EN\"\n  \"http://www.w3.org/Graphics/SVG/1.1/DTD/svg11.dtd\">\n<svg xmlns:xlink=\"http://www.w3.org/1999/xlink\" width=\"251.565pt\" height=\"248.919844pt\" viewBox=\"0 0 251.565 248.919844\" xmlns=\"http://www.w3.org/2000/svg\" version=\"1.1\">\n <metadata>\n  <rdf:RDF xmlns:dc=\"http://purl.org/dc/elements/1.1/\" xmlns:cc=\"http://creativecommons.org/ns#\" xmlns:rdf=\"http://www.w3.org/1999/02/22-rdf-syntax-ns#\">\n   <cc:Work>\n    <dc:type rdf:resource=\"http://purl.org/dc/dcmitype/StillImage\"/>\n    <dc:date>2022-05-27T16:29:41.112225</dc:date>\n    <dc:format>image/svg+xml</dc:format>\n    <dc:creator>\n     <cc:Agent>\n      <dc:title>Matplotlib v3.5.1, https://matplotlib.org/</dc:title>\n     </cc:Agent>\n    </dc:creator>\n   </cc:Work>\n  </rdf:RDF>\n </metadata>\n <defs>\n  <style type=\"text/css\">*{stroke-linejoin: round; stroke-linecap: butt}</style>\n </defs>\n <g id=\"figure_1\">\n  <g id=\"patch_1\">\n   <path d=\"M 0 248.919844 \nL 251.565 248.919844 \nL 251.565 0 \nL 0 0 \nL 0 248.919844 \nz\n\" style=\"fill: none\"/>\n  </g>\n  <g id=\"axes_1\">\n   <g id=\"patch_2\">\n    <path d=\"M 26.925 225.041719 \nL 244.365 225.041719 \nL 244.365 7.601719 \nL 26.925 7.601719 \nz\n\" style=\"fill: #ffffff\"/>\n   </g>\n   <g clip-path=\"url(#p12c7700d9c)\">\n    <image xlink:href=\"data:image/png;base64,\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\" id=\"image9c2d046c3c\" transform=\"scale(1 -1)translate(0 -218)\" x=\"26.925\" y=\"-7.041719\" width=\"218\" height=\"218\"/>\n   </g>\n   <g id=\"matplotlib.axis_1\">\n    <g id=\"xtick_1\">\n     <g id=\"line2d_1\">\n      <defs>\n       <path id=\"mc69cfd7925\" d=\"M 0 0 \nL 0 3.5 \n\" style=\"stroke: #000000; stroke-width: 0.8\"/>\n      </defs>\n      <g>\n       <use xlink:href=\"#mc69cfd7925\" x=\"30.3225\" y=\"225.041719\" style=\"stroke: #000000; stroke-width: 0.8\"/>\n      </g>\n     </g>\n     <g id=\"text_1\">\n      <!-- 0 -->\n      <g transform=\"translate(27.14125 239.640156)scale(0.1 -0.1)\">\n       <defs>\n        <path id=\"DejaVuSans-30\" d=\"M 2034 4250 \nQ 1547 4250 1301 3770 \nQ 1056 3291 1056 2328 \nQ 1056 1369 1301 889 \nQ 1547 409 2034 409 \nQ 2525 409 2770 889 \nQ 3016 1369 3016 2328 \nQ 3016 3291 2770 3770 \nQ 2525 4250 2034 4250 \nz\nM 2034 4750 \nQ 2819 4750 3233 4129 \nQ 3647 3509 3647 2328 \nQ 3647 1150 3233 529 \nQ 2819 -91 2034 -91 \nQ 1250 -91 836 529 \nQ 422 1150 422 2328 \nQ 422 3509 836 4129 \nQ 1250 4750 2034 4750 \nz\n\" transform=\"scale(0.015625)\"/>\n       </defs>\n       <use xlink:href=\"#DejaVuSans-30\"/>\n      </g>\n     </g>\n    </g>\n    <g id=\"xtick_2\">\n     <g id=\"line2d_2\">\n      <g>\n       <use xlink:href=\"#mc69cfd7925\" x=\"64.2975\" y=\"225.041719\" style=\"stroke: #000000; stroke-width: 0.8\"/>\n      </g>\n     </g>\n     <g id=\"text_2\">\n      <!-- 5 -->\n      <g transform=\"translate(61.11625 239.640156)scale(0.1 -0.1)\">\n       <defs>\n        <path id=\"DejaVuSans-35\" d=\"M 691 4666 \nL 3169 4666 \nL 3169 4134 \nL 1269 4134 \nL 1269 2991 \nQ 1406 3038 1543 3061 \nQ 1681 3084 1819 3084 \nQ 2600 3084 3056 2656 \nQ 3513 2228 3513 1497 \nQ 3513 744 3044 326 \nQ 2575 -91 1722 -91 \nQ 1428 -91 1123 -41 \nQ 819 9 494 109 \nL 494 744 \nQ 775 591 1075 516 \nQ 1375 441 1709 441 \nQ 2250 441 2565 725 \nQ 2881 1009 2881 1497 \nQ 2881 1984 2565 2268 \nQ 2250 2553 1709 2553 \nQ 1456 2553 1204 2497 \nQ 953 2441 691 2322 \nL 691 4666 \nz\n\" transform=\"scale(0.015625)\"/>\n       </defs>\n       <use xlink:href=\"#DejaVuSans-35\"/>\n      </g>\n     </g>\n    </g>\n    <g id=\"xtick_3\">\n     <g id=\"line2d_3\">\n      <g>\n       <use xlink:href=\"#mc69cfd7925\" x=\"98.2725\" y=\"225.041719\" style=\"stroke: #000000; stroke-width: 0.8\"/>\n      </g>\n     </g>\n     <g id=\"text_3\">\n      <!-- 10 -->\n      <g transform=\"translate(91.91 239.640156)scale(0.1 -0.1)\">\n       <defs>\n        <path id=\"DejaVuSans-31\" d=\"M 794 531 \nL 1825 531 \nL 1825 4091 \nL 703 3866 \nL 703 4441 \nL 1819 4666 \nL 2450 4666 \nL 2450 531 \nL 3481 531 \nL 3481 0 \nL 794 0 \nL 794 531 \nz\n\" transform=\"scale(0.015625)\"/>\n       </defs>\n       <use xlink:href=\"#DejaVuSans-31\"/>\n       <use xlink:href=\"#DejaVuSans-30\" x=\"63.623047\"/>\n      </g>\n     </g>\n    </g>\n    <g id=\"xtick_4\">\n     <g id=\"line2d_4\">\n      <g>\n       <use xlink:href=\"#mc69cfd7925\" x=\"132.2475\" y=\"225.041719\" style=\"stroke: #000000; stroke-width: 0.8\"/>\n      </g>\n     </g>\n     <g id=\"text_4\">\n      <!-- 15 -->\n      <g transform=\"translate(125.885 239.640156)scale(0.1 -0.1)\">\n       <use xlink:href=\"#DejaVuSans-31\"/>\n       <use xlink:href=\"#DejaVuSans-35\" x=\"63.623047\"/>\n      </g>\n     </g>\n    </g>\n    <g id=\"xtick_5\">\n     <g id=\"line2d_5\">\n      <g>\n       <use xlink:href=\"#mc69cfd7925\" x=\"166.2225\" y=\"225.041719\" style=\"stroke: #000000; stroke-width: 0.8\"/>\n      </g>\n     </g>\n     <g id=\"text_5\">\n      <!-- 20 -->\n      <g transform=\"translate(159.86 239.640156)scale(0.1 -0.1)\">\n       <defs>\n        <path id=\"DejaVuSans-32\" d=\"M 1228 531 \nL 3431 531 \nL 3431 0 \nL 469 0 \nL 469 531 \nQ 828 903 1448 1529 \nQ 2069 2156 2228 2338 \nQ 2531 2678 2651 2914 \nQ 2772 3150 2772 3378 \nQ 2772 3750 2511 3984 \nQ 2250 4219 1831 4219 \nQ 1534 4219 1204 4116 \nQ 875 4013 500 3803 \nL 500 4441 \nQ 881 4594 1212 4672 \nQ 1544 4750 1819 4750 \nQ 2544 4750 2975 4387 \nQ 3406 4025 3406 3419 \nQ 3406 3131 3298 2873 \nQ 3191 2616 2906 2266 \nQ 2828 2175 2409 1742 \nQ 1991 1309 1228 531 \nz\n\" transform=\"scale(0.015625)\"/>\n       </defs>\n       <use xlink:href=\"#DejaVuSans-32\"/>\n       <use xlink:href=\"#DejaVuSans-30\" x=\"63.623047\"/>\n      </g>\n     </g>\n    </g>\n    <g id=\"xtick_6\">\n     <g id=\"line2d_6\">\n      <g>\n       <use xlink:href=\"#mc69cfd7925\" x=\"200.1975\" y=\"225.041719\" style=\"stroke: #000000; stroke-width: 0.8\"/>\n      </g>\n     </g>\n     <g id=\"text_6\">\n      <!-- 25 -->\n      <g transform=\"translate(193.835 239.640156)scale(0.1 -0.1)\">\n       <use xlink:href=\"#DejaVuSans-32\"/>\n       <use xlink:href=\"#DejaVuSans-35\" x=\"63.623047\"/>\n      </g>\n     </g>\n    </g>\n    <g id=\"xtick_7\">\n     <g id=\"line2d_7\">\n      <g>\n       <use xlink:href=\"#mc69cfd7925\" x=\"234.1725\" y=\"225.041719\" style=\"stroke: #000000; stroke-width: 0.8\"/>\n      </g>\n     </g>\n     <g id=\"text_7\">\n      <!-- 30 -->\n      <g transform=\"translate(227.81 239.640156)scale(0.1 -0.1)\">\n       <defs>\n        <path id=\"DejaVuSans-33\" d=\"M 2597 2516 \nQ 3050 2419 3304 2112 \nQ 3559 1806 3559 1356 \nQ 3559 666 3084 287 \nQ 2609 -91 1734 -91 \nQ 1441 -91 1130 -33 \nQ 819 25 488 141 \nL 488 750 \nQ 750 597 1062 519 \nQ 1375 441 1716 441 \nQ 2309 441 2620 675 \nQ 2931 909 2931 1356 \nQ 2931 1769 2642 2001 \nQ 2353 2234 1838 2234 \nL 1294 2234 \nL 1294 2753 \nL 1863 2753 \nQ 2328 2753 2575 2939 \nQ 2822 3125 2822 3475 \nQ 2822 3834 2567 4026 \nQ 2313 4219 1838 4219 \nQ 1578 4219 1281 4162 \nQ 984 4106 628 3988 \nL 628 4550 \nQ 988 4650 1302 4700 \nQ 1616 4750 1894 4750 \nQ 2613 4750 3031 4423 \nQ 3450 4097 3450 3541 \nQ 3450 3153 3228 2886 \nQ 3006 2619 2597 2516 \nz\n\" transform=\"scale(0.015625)\"/>\n       </defs>\n       <use xlink:href=\"#DejaVuSans-33\"/>\n       <use xlink:href=\"#DejaVuSans-30\" x=\"63.623047\"/>\n      </g>\n     </g>\n    </g>\n   </g>\n   <g id=\"matplotlib.axis_2\">\n    <g id=\"ytick_1\">\n     <g id=\"line2d_8\">\n      <defs>\n       <path id=\"m8fdd5916a6\" d=\"M 0 0 \nL -3.5 0 \n\" style=\"stroke: #000000; stroke-width: 0.8\"/>\n      </defs>\n      <g>\n       <use xlink:href=\"#m8fdd5916a6\" x=\"26.925\" y=\"10.999219\" style=\"stroke: #000000; stroke-width: 0.8\"/>\n      </g>\n     </g>\n     <g id=\"text_8\">\n      <!-- 0 -->\n      <g transform=\"translate(13.5625 14.798437)scale(0.1 -0.1)\">\n       <use xlink:href=\"#DejaVuSans-30\"/>\n      </g>\n     </g>\n    </g>\n    <g id=\"ytick_2\">\n     <g id=\"line2d_9\">\n      <g>\n       <use xlink:href=\"#m8fdd5916a6\" x=\"26.925\" y=\"44.974219\" style=\"stroke: #000000; stroke-width: 0.8\"/>\n      </g>\n     </g>\n     <g id=\"text_9\">\n      <!-- 5 -->\n      <g transform=\"translate(13.5625 48.773437)scale(0.1 -0.1)\">\n       <use xlink:href=\"#DejaVuSans-35\"/>\n      </g>\n     </g>\n    </g>\n    <g id=\"ytick_3\">\n     <g id=\"line2d_10\">\n      <g>\n       <use xlink:href=\"#m8fdd5916a6\" x=\"26.925\" y=\"78.949219\" style=\"stroke: #000000; stroke-width: 0.8\"/>\n      </g>\n     </g>\n     <g id=\"text_10\">\n      <!-- 10 -->\n      <g transform=\"translate(7.2 82.748437)scale(0.1 -0.1)\">\n       <use xlink:href=\"#DejaVuSans-31\"/>\n       <use xlink:href=\"#DejaVuSans-30\" x=\"63.623047\"/>\n      </g>\n     </g>\n    </g>\n    <g id=\"ytick_4\">\n     <g id=\"line2d_11\">\n      <g>\n       <use xlink:href=\"#m8fdd5916a6\" x=\"26.925\" y=\"112.924219\" style=\"stroke: #000000; stroke-width: 0.8\"/>\n      </g>\n     </g>\n     <g id=\"text_11\">\n      <!-- 15 -->\n      <g transform=\"translate(7.2 116.723437)scale(0.1 -0.1)\">\n       <use xlink:href=\"#DejaVuSans-31\"/>\n       <use xlink:href=\"#DejaVuSans-35\" x=\"63.623047\"/>\n      </g>\n     </g>\n    </g>\n    <g id=\"ytick_5\">\n     <g id=\"line2d_12\">\n      <g>\n       <use xlink:href=\"#m8fdd5916a6\" x=\"26.925\" y=\"146.899219\" style=\"stroke: #000000; stroke-width: 0.8\"/>\n      </g>\n     </g>\n     <g id=\"text_12\">\n      <!-- 20 -->\n      <g transform=\"translate(7.2 150.698437)scale(0.1 -0.1)\">\n       <use xlink:href=\"#DejaVuSans-32\"/>\n       <use xlink:href=\"#DejaVuSans-30\" x=\"63.623047\"/>\n      </g>\n     </g>\n    </g>\n    <g id=\"ytick_6\">\n     <g id=\"line2d_13\">\n      <g>\n       <use xlink:href=\"#m8fdd5916a6\" x=\"26.925\" y=\"180.874219\" style=\"stroke: #000000; stroke-width: 0.8\"/>\n      </g>\n     </g>\n     <g id=\"text_13\">\n      <!-- 25 -->\n      <g transform=\"translate(7.2 184.673437)scale(0.1 -0.1)\">\n       <use xlink:href=\"#DejaVuSans-32\"/>\n       <use xlink:href=\"#DejaVuSans-35\" x=\"63.623047\"/>\n      </g>\n     </g>\n    </g>\n    <g id=\"ytick_7\">\n     <g id=\"line2d_14\">\n      <g>\n       <use xlink:href=\"#m8fdd5916a6\" x=\"26.925\" y=\"214.849219\" style=\"stroke: #000000; stroke-width: 0.8\"/>\n      </g>\n     </g>\n     <g id=\"text_14\">\n      <!-- 30 -->\n      <g transform=\"translate(7.2 218.648437)scale(0.1 -0.1)\">\n       <use xlink:href=\"#DejaVuSans-33\"/>\n       <use xlink:href=\"#DejaVuSans-30\" x=\"63.623047\"/>\n      </g>\n     </g>\n    </g>\n   </g>\n   <g id=\"patch_3\">\n    <path d=\"M 26.925 225.041719 \nL 26.925 7.601719 \n\" style=\"fill: none; stroke: #000000; stroke-width: 0.8; stroke-linejoin: miter; stroke-linecap: square\"/>\n   </g>\n   <g id=\"patch_4\">\n    <path d=\"M 244.365 225.041719 \nL 244.365 7.601719 \n\" style=\"fill: none; stroke: #000000; stroke-width: 0.8; stroke-linejoin: miter; stroke-linecap: square\"/>\n   </g>\n   <g id=\"patch_5\">\n    <path d=\"M 26.925 225.041719 \nL 244.365 225.041719 \n\" style=\"fill: none; stroke: #000000; stroke-width: 0.8; stroke-linejoin: miter; stroke-linecap: square\"/>\n   </g>\n   <g id=\"patch_6\">\n    <path d=\"M 26.925 7.601719 \nL 244.365 7.601719 \n\" style=\"fill: none; stroke: #000000; stroke-width: 0.8; stroke-linejoin: miter; stroke-linecap: square\"/>\n   </g>\n  </g>\n </g>\n <defs>\n  <clipPath id=\"p12c7700d9c\">\n   <rect x=\"26.925\" y=\"7.601719\" width=\"217.44\" height=\"217.44\"/>\n  </clipPath>\n </defs>\n</svg>\n",
      "text/plain": [
       "<Figure size 432x288 with 1 Axes>"
      ]
     },
     "metadata": {
      "needs_background": "light"
     },
     "output_type": "display_data"
    }
   ],
   "source": [
    "plt.imshow(clean_imgs[1].permute(1,2,0).numpy());"
   ]
  }
 ],
 "metadata": {
  "kernelspec": {
   "display_name": "Python 3.8.13 ('epfl')",
   "language": "python",
   "name": "python3"
  },
  "language_info": {
   "codemirror_mode": {
    "name": "ipython",
    "version": 3
   },
   "file_extension": ".py",
   "mimetype": "text/x-python",
   "name": "python",
   "nbconvert_exporter": "python",
   "pygments_lexer": "ipython3",
   "version": "3.8.13"
  },
  "vscode": {
   "interpreter": {
    "hash": "6d036c3de50451f7edaf40a7a59b7ed59bcee18dcdc22ee564f8df76b1abd4f9"
   }
  }
 },
 "nbformat": 4,
 "nbformat_minor": 5
}

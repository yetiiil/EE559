{
 "cells": [
  {
   "cell_type": "code",
   "execution_count": 2,
   "metadata": {},
   "outputs": [],
   "source": [
    "from torch import empty , cat , arange, Tensor\n",
    "from torch.nn.functional import fold, unfold\n",
    "import torch\n",
    "\n",
    "class Module(object):\n",
    "    def __init__(self):\n",
    "        super().__init__()\n",
    "\n",
    "    def forward(self, *input):\n",
    "        raise NotImplementedError\n",
    "    \n",
    "    def backward(self, *gradwrtoutput):\n",
    "        raise NotImplementedError\n",
    "\n",
    "    def param(self):\n",
    "        return []\n",
    "        \n",
    "class Conv2d(Module):\n",
    "    def __init__(self, in_channels, out_channels, kernel_size, stride=1, padding=0):\n",
    "        super().__init__()\n",
    "        \n",
    "        self.in_channels = in_channels\n",
    "        self.out_channels = out_channels\n",
    "        self.padding = padding\n",
    "\n",
    "        if (isinstance(kernel_size, int)):\n",
    "            self.kernel_size = (kernel_size, kernel_size)\n",
    "        elif (isinstance(kernel_size, tuple)):\n",
    "            self.kernel_size = kernel_size\n",
    "\n",
    "        if (isinstance(stride, int)):\n",
    "            self.stride = (stride, stride)\n",
    "        elif (isinstance(stride, tuple)):\n",
    "            self.stride = stride    \n",
    "\n",
    "        self.weight = empty((in_channels, out_channels, self.kernel_size[0], self.kernel_size[1]))\n",
    "        self.bias = empty(out_channels)\n",
    "\n",
    "        self.weightGrads = empty((in_channels, out_channels, self.kernel_size[0], self.kernel_size[1])).zero_()\n",
    "        self.biasGrads = empty(out_channels).zero_()\n",
    "        self.cache = {}"
   ]
  },
  {
   "cell_type": "code",
   "execution_count": 179,
   "metadata": {},
   "outputs": [],
   "source": [
    "inp = torch.randn((50, 3, 32, 32))\n",
    "gradwrtoutput = torch.randn((50, 10, 30, 30))\n",
    "w = torch.randn((3, 10, 3, 3))"
   ]
  },
  {
   "cell_type": "code",
   "execution_count": 176,
   "metadata": {},
   "outputs": [
    {
     "data": {
      "text/plain": [
       "torch.Size([10, 27])"
      ]
     },
     "execution_count": 176,
     "metadata": {},
     "output_type": "execute_result"
    }
   ],
   "source": [
    "w.reshape(10, -1).shape"
   ]
  },
  {
   "cell_type": "code",
   "execution_count": 180,
   "metadata": {},
   "outputs": [
    {
     "data": {
      "text/plain": [
       "torch.Size([10, 45000])"
      ]
     },
     "execution_count": 180,
     "metadata": {},
     "output_type": "execute_result"
    }
   ],
   "source": [
    "gradwrtoutput.permute(1, 2, 3, 0).reshape(10, -1).shape"
   ]
  },
  {
   "cell_type": "code",
   "execution_count": 181,
   "metadata": {},
   "outputs": [
    {
     "data": {
      "text/plain": [
       "torch.Size([50, 27, 900])"
      ]
     },
     "execution_count": 181,
     "metadata": {},
     "output_type": "execute_result"
    }
   ],
   "source": [
    "torch.nn.functional.unfold(inp, 3, 1).shape"
   ]
  },
  {
   "cell_type": "code",
   "execution_count": 166,
   "metadata": {},
   "outputs": [],
   "source": [
    "a = gradient.permute(1, 2, 3, 0).reshape(10,-1) @ torch.nn.functional.unfold(inp, 3, 1).permute(2, 0, 1).reshape(45000, -1)"
   ]
  },
  {
   "cell_type": "code",
   "execution_count": 170,
   "metadata": {},
   "outputs": [
    {
     "data": {
      "text/plain": [
       "torch.Size([10, 45000])"
      ]
     },
     "execution_count": 170,
     "metadata": {},
     "output_type": "execute_result"
    }
   ],
   "source": [
    "gradient.permute(1, 2, 3, 0).reshape(10,-1).shape"
   ]
  },
  {
   "cell_type": "code",
   "execution_count": 172,
   "metadata": {},
   "outputs": [
    {
     "data": {
      "text/plain": [
       "torch.Size([27, 45000])"
      ]
     },
     "execution_count": 172,
     "metadata": {},
     "output_type": "execute_result"
    }
   ],
   "source": [
    "b= w.reshape(10,-1).t() @ gradient.permute(1, 2, 3, 0).reshape(10,-1)\n",
    "b.shape"
   ]
  },
  {
   "cell_type": "code",
   "execution_count": 175,
   "metadata": {},
   "outputs": [
    {
     "ename": "RuntimeError",
     "evalue": "shape '[27, 900, 50]' is invalid for input of size 270",
     "output_type": "error",
     "traceback": [
      "\u001b[0;31m---------------------------------------------------------------------------\u001b[0m",
      "\u001b[0;31mRuntimeError\u001b[0m                              Traceback (most recent call last)",
      "\u001b[1;32mUntitled-1.ipynb Cell 7'\u001b[0m in \u001b[0;36m<cell line: 1>\u001b[0;34m()\u001b[0m\n\u001b[0;32m----> <a href='vscode-notebook-cell:Untitled-1.ipynb?jupyter-notebook#ch0000027untitled?line=0'>1</a>\u001b[0m a\u001b[39m.\u001b[39;49mreshape((\u001b[39m3\u001b[39;49m,\u001b[39m10\u001b[39;49m,\u001b[39m3\u001b[39;49m,\u001b[39m3\u001b[39;49m))\u001b[39m.\u001b[39;49mreshape(torch\u001b[39m.\u001b[39;49mnn\u001b[39m.\u001b[39;49mfunctional\u001b[39m.\u001b[39;49munfold(inp, \u001b[39m3\u001b[39;49m, \u001b[39m1\u001b[39;49m)\u001b[39m.\u001b[39;49mpermute(\u001b[39m1\u001b[39;49m, \u001b[39m2\u001b[39;49m, \u001b[39m0\u001b[39;49m)\u001b[39m.\u001b[39;49mshape)\n",
      "\u001b[0;31mRuntimeError\u001b[0m: shape '[27, 900, 50]' is invalid for input of size 270"
     ]
    }
   ],
   "source": [
    "a.reshape((3,10,3,3)).reshape(torch.nn.functional.unfold(inp, 3, 1).permute(1, 2, 0).shape)"
   ]
  },
  {
   "cell_type": "code",
   "execution_count": null,
   "metadata": {},
   "outputs": [],
   "source": [
    "x #bs, ic, H, W"
   ]
  },
  {
   "cell_type": "code",
   "execution_count": null,
   "metadata": {},
   "outputs": [],
   "source": []
  },
  {
   "cell_type": "code",
   "execution_count": 71,
   "metadata": {},
   "outputs": [
    {
     "data": {
      "text/plain": [
       "torch.Size([10, 27])"
      ]
     },
     "execution_count": 71,
     "metadata": {},
     "output_type": "execute_result"
    }
   ],
   "source": [
    "w = w.view(10,-1)\n",
    "w.shape"
   ]
  },
  {
   "cell_type": "code",
   "execution_count": 102,
   "metadata": {},
   "outputs": [
    {
     "data": {
      "text/plain": [
       "tensor([0, 1, 2, 3, 4, 5, 6, 7, 8, 9])"
      ]
     },
     "execution_count": 102,
     "metadata": {},
     "output_type": "execute_result"
    }
   ],
   "source": [
    "bias = torch.arange(10)\n",
    "bias"
   ]
  },
  {
   "cell_type": "code",
   "execution_count": 113,
   "metadata": {},
   "outputs": [
    {
     "data": {
      "text/plain": [
       "tensor([[0],\n",
       "        [1],\n",
       "        [2],\n",
       "        [3],\n",
       "        [4],\n",
       "        [5],\n",
       "        [6],\n",
       "        [7],\n",
       "        [8],\n",
       "        [9]])"
      ]
     },
     "execution_count": 113,
     "metadata": {},
     "output_type": "execute_result"
    }
   ],
   "source": [
    "bias.view(-1,1)"
   ]
  },
  {
   "cell_type": "code",
   "execution_count": 70,
   "metadata": {},
   "outputs": [
    {
     "data": {
      "text/plain": [
       "torch.Size([50, 27, 900])"
      ]
     },
     "execution_count": 70,
     "metadata": {},
     "output_type": "execute_result"
    }
   ],
   "source": [
    "unfold = torch.nn.functional.unfold(inp, (3,3), (1,1))\n",
    "unfold.size()"
   ]
  },
  {
   "cell_type": "code",
   "execution_count": 114,
   "metadata": {},
   "outputs": [
    {
     "data": {
      "text/plain": [
       "torch.Size([50, 10, 30, 30])"
      ]
     },
     "execution_count": 114,
     "metadata": {},
     "output_type": "execute_result"
    }
   ],
   "source": [
    "((w @ unfold) +bias.view(-1,1)).view(50,10,30,-1).shape"
   ]
  },
  {
   "cell_type": "code",
   "execution_count": 115,
   "metadata": {},
   "outputs": [
    {
     "ename": "AttributeError",
     "evalue": "'Tensor' object has no attribute 'fold'",
     "output_type": "error",
     "traceback": [
      "\u001b[0;31m---------------------------------------------------------------------------\u001b[0m",
      "\u001b[0;31mAttributeError\u001b[0m                            Traceback (most recent call last)",
      "\u001b[1;32mUntitled-1.ipynb Cell 8'\u001b[0m in \u001b[0;36m<cell line: 1>\u001b[0;34m()\u001b[0m\n\u001b[0;32m----> <a href='vscode-notebook-cell:Untitled-1.ipynb?jupyter-notebook#ch0000012untitled?line=0'>1</a>\u001b[0m ((w \u001b[39m@\u001b[39;49m unfold) \u001b[39m+\u001b[39;49m bias\u001b[39m.\u001b[39;49mview(\u001b[39m1\u001b[39;49m,\u001b[39m-\u001b[39;49m\u001b[39m1\u001b[39;49m,\u001b[39m1\u001b[39;49m))\u001b[39m.\u001b[39;49mfold((\u001b[39m30\u001b[39m,\u001b[39m30\u001b[39m),(\u001b[39m3\u001b[39m,\u001b[39m3\u001b[39m))\u001b[39m.\u001b[39mshape\n",
      "\u001b[0;31mAttributeError\u001b[0m: 'Tensor' object has no attribute 'fold'"
     ]
    }
   ],
   "source": [
    "().fold((30,30),(3,3)).shape"
   ]
  },
  {
   "cell_type": "code",
   "execution_count": 54,
   "metadata": {},
   "outputs": [
    {
     "data": {
      "text/plain": [
       "torch.Size([50, 10, 900])"
      ]
     },
     "execution_count": 54,
     "metadata": {},
     "output_type": "execute_result"
    }
   ],
   "source": [
    "a=unfold.reshape(-1,27).mm(w.reshape(10,-1).t()).reshape(50,900,-1).transpose(1, 2)\n",
    "a.size()"
   ]
  },
  {
   "cell_type": "code",
   "execution_count": 119,
   "metadata": {},
   "outputs": [
    {
     "data": {
      "text/plain": [
       "torch.Size([50, 10, 900])"
      ]
     },
     "execution_count": 119,
     "metadata": {},
     "output_type": "execute_result"
    }
   ],
   "source": [
    "((w @ unfold) + bias.view(1,-1,1)).shape"
   ]
  },
  {
   "cell_type": "code",
   "execution_count": 121,
   "metadata": {},
   "outputs": [
    {
     "ename": "RuntimeError",
     "evalue": "Expected size of input's dimension 1 to be divisible by the product of kernel_size, but got input.size(1)=10 and kernel_size=(3, 3).",
     "output_type": "error",
     "traceback": [
      "\u001b[0;31m---------------------------------------------------------------------------\u001b[0m",
      "\u001b[0;31mRuntimeError\u001b[0m                              Traceback (most recent call last)",
      "\u001b[1;32mUntitled-1.ipynb Cell 11'\u001b[0m in \u001b[0;36m<cell line: 1>\u001b[0;34m()\u001b[0m\n\u001b[0;32m----> <a href='vscode-notebook-cell:Untitled-1.ipynb?jupyter-notebook#ch0000006untitled?line=0'>1</a>\u001b[0m torch\u001b[39m.\u001b[39;49mnn\u001b[39m.\u001b[39;49mfunctional\u001b[39m.\u001b[39;49mfold(((w \u001b[39m@\u001b[39;49m unfold) \u001b[39m+\u001b[39;49m bias\u001b[39m.\u001b[39;49mview(\u001b[39m-\u001b[39;49m\u001b[39m1\u001b[39;49m,\u001b[39m1\u001b[39;49m)), (\u001b[39m30\u001b[39;49m,\u001b[39m30\u001b[39;49m), (\u001b[39m3\u001b[39;49m,\u001b[39m3\u001b[39;49m))\n",
      "File \u001b[0;32m~/opt/anaconda3/envs/epfl/lib/python3.8/site-packages/torch/nn/functional.py:4524\u001b[0m, in \u001b[0;36mfold\u001b[0;34m(input, output_size, kernel_size, dilation, padding, stride)\u001b[0m\n\u001b[1;32m   <a href='file:///Users/liyuxiao/opt/anaconda3/envs/epfl/lib/python3.8/site-packages/torch/nn/functional.py?line=4520'>4521</a>\u001b[0m     assert_int_or_pair(padding, \u001b[39m\"\u001b[39m\u001b[39mpadding\u001b[39m\u001b[39m\"\u001b[39m, msg)\n\u001b[1;32m   <a href='file:///Users/liyuxiao/opt/anaconda3/envs/epfl/lib/python3.8/site-packages/torch/nn/functional.py?line=4521'>4522</a>\u001b[0m     assert_int_or_pair(stride, \u001b[39m\"\u001b[39m\u001b[39mstride\u001b[39m\u001b[39m\"\u001b[39m, msg)\n\u001b[0;32m-> <a href='file:///Users/liyuxiao/opt/anaconda3/envs/epfl/lib/python3.8/site-packages/torch/nn/functional.py?line=4523'>4524</a>\u001b[0m     \u001b[39mreturn\u001b[39;00m torch\u001b[39m.\u001b[39;49m_C\u001b[39m.\u001b[39;49m_nn\u001b[39m.\u001b[39;49mcol2im(\n\u001b[1;32m   <a href='file:///Users/liyuxiao/opt/anaconda3/envs/epfl/lib/python3.8/site-packages/torch/nn/functional.py?line=4524'>4525</a>\u001b[0m         \u001b[39minput\u001b[39;49m, _pair(output_size), _pair(kernel_size), _pair(dilation), _pair(padding), _pair(stride)\n\u001b[1;32m   <a href='file:///Users/liyuxiao/opt/anaconda3/envs/epfl/lib/python3.8/site-packages/torch/nn/functional.py?line=4525'>4526</a>\u001b[0m     )\n\u001b[1;32m   <a href='file:///Users/liyuxiao/opt/anaconda3/envs/epfl/lib/python3.8/site-packages/torch/nn/functional.py?line=4526'>4527</a>\u001b[0m \u001b[39melse\u001b[39;00m:\n\u001b[1;32m   <a href='file:///Users/liyuxiao/opt/anaconda3/envs/epfl/lib/python3.8/site-packages/torch/nn/functional.py?line=4527'>4528</a>\u001b[0m     \u001b[39mraise\u001b[39;00m \u001b[39mNotImplementedError\u001b[39;00m(\u001b[39m\"\u001b[39m\u001b[39mInput Error: Only 3D input Tensors are supported (got \u001b[39m\u001b[39m{}\u001b[39;00m\u001b[39mD)\u001b[39m\u001b[39m\"\u001b[39m\u001b[39m.\u001b[39mformat(\u001b[39minput\u001b[39m\u001b[39m.\u001b[39mdim()))\n",
      "\u001b[0;31mRuntimeError\u001b[0m: Expected size of input's dimension 1 to be divisible by the product of kernel_size, but got input.size(1)=10 and kernel_size=(3, 3)."
     ]
    }
   ],
   "source": [
    "torch.nn.functional.fold(((w @ unfold) + bias.view(-1,1)), (30,30), (3,3))"
   ]
  }
 ],
 "metadata": {
  "interpreter": {
   "hash": "6d036c3de50451f7edaf40a7a59b7ed59bcee18dcdc22ee564f8df76b1abd4f9"
  },
  "kernelspec": {
   "display_name": "Python 3.8.12 ('epfl')",
   "language": "python",
   "name": "python3"
  },
  "language_info": {
   "codemirror_mode": {
    "name": "ipython",
    "version": 3
   },
   "file_extension": ".py",
   "mimetype": "text/x-python",
   "name": "python",
   "nbconvert_exporter": "python",
   "pygments_lexer": "ipython3",
   "version": "3.8.12"
  },
  "orig_nbformat": 4
 },
 "nbformat": 4,
 "nbformat_minor": 2
}

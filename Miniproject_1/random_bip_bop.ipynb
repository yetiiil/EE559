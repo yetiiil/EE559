{
 "cells": [
  {
   "cell_type": "code",
   "execution_count": 1,
   "id": "c80f9f62",
   "metadata": {},
   "outputs": [],
   "source": [
    "import torch\n",
    "import math\n",
    "import matplotlib.pyplot as plt\n",
    "from torch.nn import functional as F\n",
    "from torch import optim\n",
    "import torchvision.transforms as T\n",
    "from torch import Tensor\n",
    "from torch import nn\n",
    "import ipywidgets as widgets"
   ]
  },
  {
   "cell_type": "code",
   "execution_count": 2,
   "id": "c97125e7",
   "metadata": {},
   "outputs": [],
   "source": [
    "noisy_imgs1, noisy_imgs2 = torch.load('../../data/train_data.pkl')\n",
    "noisy_imgs_val, clear_imgs = torch.load('../../data/val_data.pkl')"
   ]
  },
  {
   "cell_type": "code",
   "execution_count": 3,
   "id": "4ea005b2",
   "metadata": {},
   "outputs": [
    {
     "data": {
      "text/plain": [
       "<matplotlib.image.AxesImage at 0x7f51fa450790>"
      ]
     },
     "execution_count": 3,
     "metadata": {},
     "output_type": "execute_result"
    },
    {
     "data": {
      "text/plain": [
       "<Figure size 432x288 with 0 Axes>"
      ]
     },
     "metadata": {},
     "output_type": "display_data"
    },
    {
     "data": {
      "image/png": "[encoded data removed]",
      "text/plain": [
       "<Figure size 432x288 with 2 Axes>"
      ]
     },
     "metadata": {
      "needs_background": "light"
     },
     "output_type": "display_data"
    }
   ],
   "source": [
    "i=50\n",
    "plt.figure()\n",
    "#subplot(r,c) provide the no. of rows and columns\n",
    "f, axarr = plt.subplots(1,2) \n",
    "# use the created array to output your multiple images. In this case I have stacked 4 images vertically\n",
    "axarr[0].imshow(noisy_imgs1[i].permute(1,2,0))\n",
    "axarr[1].imshow(noisy_imgs2[i].permute(1,2,0))"
   ]
  },
  {
   "cell_type": "code",
   "execution_count": 43,
   "id": "cb9c0088",
   "metadata": {},
   "outputs": [],
   "source": [
    "def compute_psnr(x, y, max_range=1.0):\n",
    "        assert x.shape == y.shape and x.ndim == 4\n",
    "        return 20 * torch.log10(torch.tensor(max_range)) - 10 * torch.log10(((x-y) ** 2).mean((1,2,3))).mean()"
   ]
  },
  {
   "cell_type": "code",
   "execution_count": 5,
   "id": "26913c9e",
   "metadata": {},
   "outputs": [],
   "source": [
    "from torch.nn.modules import padding\n",
    "class mod(nn.Module):\n",
    "    def __init__(self, \n",
    "                 skip_connections = True, batch_normalization = True):\n",
    "        super().__init__()\n",
    "        self.rel=m = nn.RReLU(0.1, 0.3)\n",
    "        \n",
    "        self.conv1 = nn.Conv2d(3, 3*4,\n",
    "                               kernel_size = 8,\n",
    "                               stride=2,\n",
    "                               padding = 3)\n",
    "        \n",
    "        self.conv21 = nn.Conv2d(3*4, 3*6,\n",
    "                               kernel_size = 6,\n",
    "                               padding = 2)\n",
    "        self.conv22 = nn.Conv2d(3*6, 3*12,\n",
    "                               kernel_size = 6,\n",
    "                               padding = 2)\n",
    "        self.conv23 = nn.Conv2d(3*12, 3*12,\n",
    "                               kernel_size = 4,\n",
    "                               padding = 2)\n",
    "\n",
    "        self.maxlong = nn.MaxPool2d(kernel_size=(3,1),padding=0)\n",
    "        self.maxwide = nn.MaxPool2d(kernel_size=(1,3),padding=0)\n",
    "        self.upwide = nn.Upsample(scale_factor=(1,3), mode='nearest')\n",
    "        self.uplong = nn.Upsample(scale_factor=(3,1), mode='nearest')\n",
    "\n",
    "        self.conv24 = nn.Conv2d(3*12, 3*4,\n",
    "                               kernel_size = 2,\n",
    "                               padding = 1)\n",
    "        self.conv25 = nn.Conv2d(3*4, 3*4,\n",
    "                               kernel_size = 5,\n",
    "                               padding = 2)\n",
    "        self.conv3 = nn.ConvTranspose2d(3*4, 3,\n",
    "                                        kernel_size = 8,\n",
    "                                        stride=2,\n",
    "                                        padding = 3)\n",
    "        self.m2=nn.Dropout(p=0.4)\n",
    "        \n",
    "    \n",
    "    def load_pretrained_model(self) -> None:\n",
    "        #if self.use_cuda:\n",
    "        self.load_state_dict(torch.load('model.pt'))\n",
    "        #else:\n",
    "         #   self.model.load_state_dict(torch.load('model.pt', map_location='cpu'))\n",
    "    \n",
    "    \n",
    "    def forward(self, x):\n",
    "        y1 = self.conv1(x)\n",
    "        y = self.m2(y1)\n",
    "        y = self.conv21(y)\n",
    "        y = self.rel(y)\n",
    "        y = self.conv22(y)\n",
    "        y = self.rel(y)\n",
    "        y = self.conv23(y)\n",
    "        ylong=self.maxlong(y)\n",
    "        ywide=self.maxwide(y)\n",
    "        y= self.upwide(ywide)+self.uplong(ylong)\n",
    "        y= self.conv24(y)\n",
    "        y=self.conv25(y)\n",
    "        y=y+y1\n",
    "        y=self.conv3(y)\n",
    "        #y= 255-self.rel(-(y-255))\n",
    "        y = F.relu(y)\n",
    "        \n",
    "        return y"
   ]
  },
  {
   "cell_type": "code",
   "execution_count": 47,
   "id": "48ceba79",
   "metadata": {},
   "outputs": [],
   "source": [
    "from piqa import SSIM\n",
    "\n",
    "class SSIMLoss(SSIM):\n",
    "    def forward(self, x, y):\n",
    "        return  super().forward(x, y)\n",
    "\n",
    "def train_model( train_input, train_target, mini_batch_size, nb_epochs = 100):\n",
    "    device = torch.device('cuda' if torch.cuda.is_available() else \"cpu\")\n",
    "    criterion = nn.MSELoss()\n",
    "    model=mod()\n",
    "    model=model.to(device)\n",
    "    optim = torch.optim.Adam(model.parameters(), lr = 0.001)\n",
    "    train_input, train_target = train_input.to(device).type(torch.float), train_target.to(device).type(torch.float)\n",
    "\n",
    "    for e in range(nb_epochs):\n",
    "        acc_loss = 0\n",
    "        for b in range(0, train_input.size(0), mini_batch_size):\n",
    "            optim.zero_grad()\n",
    "            output = model(train_input.narrow(0, b, mini_batch_size))\n",
    "            loss = criterion(output/255, train_target.narrow(0, b, mini_batch_size)/255)\n",
    "            acc_loss = acc_loss + loss.item()\n",
    "            #print(output)\n",
    "            loss.backward()\n",
    "            torch.no_grad()\n",
    "            optim.step()\n",
    "        print(e, acc_loss,loss)\n",
    "    return model"
   ]
  },
  {
   "cell_type": "code",
   "execution_count": null,
   "id": "f8d337e7",
   "metadata": {},
   "outputs": [],
   "source": [
    "mini_batch_size=100\n",
    "model=train_model(noisy_imgs2,noisy_imgs1,mini_batch_size,70)"
   ]
  },
  {
   "cell_type": "code",
   "execution_count": null,
   "id": "9bd1fe71",
   "metadata": {},
   "outputs": [],
   "source": [
    "device = torch.device('cuda' if torch.cuda.is_available() else \"cpu\")\n",
    "model.eval()\n",
    "score=[]\n",
    "i=0\n",
    "clear_imgs=clear_imgs.to(device)\n",
    "pred=model(noisy_imgs_val.to(device).type(torch.float))\n",
    "for l in range (noisy_imgs_val.size()[0]):\n",
    "    score.append(psnr(pred[l]/255,clear_imgs[l]/255).tolist())\n",
    "import statistics\n",
    "statistics.mean(score)"
   ]
  },
  {
   "cell_type": "code",
   "execution_count": 115,
   "id": "dfd98d84",
   "metadata": {},
   "outputs": [],
   "source": [
    "pred=pred.type(torch.int)"
   ]
  },
  {
   "cell_type": "code",
   "execution_count": 116,
   "id": "6d782ab5",
   "metadata": {},
   "outputs": [
    {
     "data": {
      "text/plain": [
       "<matplotlib.image.AxesImage at 0x7f6670709be0>"
      ]
     },
     "execution_count": 116,
     "metadata": {},
     "output_type": "execute_result"
    },
    {
     "data": {
      "text/plain": [
       "<Figure size 432x288 with 0 Axes>"
      ]
     },
     "metadata": {},
     "output_type": "display_data"
    },
    {
     "data": {
      "image/png": "[encoded data removed]",
      "text/plain": [
       "<Figure size 432x288 with 3 Axes>"
      ]
     },
     "metadata": {
      "needs_background": "light"
     },
     "output_type": "display_data"
    }
   ],
   "source": [
    "i=560\n",
    "\n",
    "plt.figure()\n",
    "\n",
    "#subplot(r,c) provide the no. of rows and columns\n",
    "f, axarr = plt.subplots(1,3) \n",
    "\n",
    "# use the created array to output your multiple images. In this case I have stacked 4 images vertically\n",
    "axarr[0].imshow(pred[i].permute(1,2,0))\n",
    "axarr[1].imshow(noisy_imgs_val[i].permute(1,2,0))\n",
    "axarr[2].imshow(clear_imgs[i].permute(1,2,0))"
   ]
  },
  {
   "cell_type": "code",
   "execution_count": 12,
   "id": "c06c7db9",
   "metadata": {},
   "outputs": [],
   "source": [
    "torch.save(model.state_dict(), 'model.pt')"
   ]
  },
  {
   "cell_type": "code",
   "execution_count": 141,
   "id": "a73818fa",
   "metadata": {},
   "outputs": [],
   "source": [
    "model=mod()\n",
    "model.load_pretrained_model()"
   ]
  }
 ],
 "metadata": {
  "kernelspec": {
   "display_name": "Python 3 (ipykernel)",
   "language": "python",
   "name": "python3"
  },
  "language_info": {
   "codemirror_mode": {
    "name": "ipython",
    "version": 3
   },
   "file_extension": ".py",
   "mimetype": "text/x-python",
   "name": "python",
   "nbconvert_exporter": "python",
   "pygments_lexer": "ipython3",
   "version": "3.9.7"
  }
 },
 "nbformat": 4,
 "nbformat_minor": 5
}
